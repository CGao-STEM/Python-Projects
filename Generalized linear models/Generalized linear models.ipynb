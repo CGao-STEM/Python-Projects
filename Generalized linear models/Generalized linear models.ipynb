{
 "cells": [
  {
   "cell_type": "markdown",
   "metadata": {},
   "source": [
    "#  GLM\n",
    "## [Scientific Computing with Python]\n"
   ]
  },
  {
   "cell_type": "code",
   "execution_count": 3,
   "metadata": {},
   "outputs": [],
   "source": [
    "%matplotlib inline\n",
    "import matplotlib.pyplot as plt\n",
    "import matplotlib as mpl\n",
    "plt.warnings.simplefilter('ignore', FutureWarning)\n",
    "import numpy as np\n",
    "import statsmodels.api as sm\n",
    "import urllib.request\n",
    "import zipfile\n",
    "import os.path\n",
    "import pandas as pd\n",
    "import seaborn as sns\n",
    "sns.set_context('notebook')\n",
    "sns.set_palette('muted')\n",
    "red, blue, green = sns.color_palette('Set1', 3)"
   ]
  },
  {
   "cell_type": "markdown",
   "metadata": {},
   "source": [
    "# General instructions\n",
    "\n",
    "1. When instructed to implement a function, use the given function names and parameters lists; failure to do so may cause test functions to fail during grading.\n",
    "1. When instructed to generate a plot, make sure that the plot is clear, that axes are propely labeled, and that the notebook is saved with the plot inline, so that the grader can see the plot without running the code. Make sure that you re-generate the plot if you changed the code!\n",
    "1. Code lines with a triple comment `###` should not be removed or modified, they are used for automatic grading.\n",
    "1. Note that there are 3 exercises and the last cell in the notebook says **end of assignment**; if you are missing anything please download the origianl file from the course website.\n",
    "1. This exercise doesn't put much emphasis on efficieny or runtime. *But*, your code should still run within a reasonable time (a few minutes) and you should use idioms learned in class, e.g. array opreations, wherever possible to \"lose your loops\".\n",
    "1. Questions regarding the exercises should be posted to the course forum at the designated group (i.e. \"assignment3\"). You can post questions anonymously. You can also visit the Office Hours, but please do not email the course staff with questions about the exercise.\n"
   ]
  },
  {
   "cell_type": "markdown",
   "metadata": {},
   "source": [
    "# Exercise 1\n",
    "\n",
    "Following is dataset with the number of times a cricket chirps in one minute ($y$) at different temperatures $x$, in degrees Fahrenheit."
   ]
  },
  {
   "cell_type": "code",
   "execution_count": 4,
   "metadata": {},
   "outputs": [
    {
     "data": {
      "image/png": "[encoded data removed]",
      "text/plain": [
       "<Figure size 432x288 with 1 Axes>"
      ]
     },
     "metadata": {
      "needs_background": "light"
     },
     "output_type": "display_data"
    }
   ],
   "source": [
    "x = np.array([46, 51, 54, 57, 59, 61, 63, 66, 68, 72])\n",
    "y = np.array([ 40,  55,  72,  77,  90,  96,  99, 113, 127, 132])\n",
    "\n",
    "plt.plot(x, y, 'o')\n",
    "plt.xlabel(\"Fahrenheit\")\n",
    "plt.ylabel(\"Chirps / min\")\n",
    "sns.despine()"
   ]
  },
  {
   "cell_type": "markdown",
   "metadata": {},
   "source": [
    "**Use _statsmodels_ to fit a linear model to the data.**\n",
    "\n",
    "Think: Which generalized linear model should you fit to the data?\n",
    "\n",
    "**Print a summary of the model fit and plot the model prediction line over the data points.**"
   ]
  },
  {
   "cell_type": "code",
   "execution_count": 5,
   "metadata": {},
   "outputs": [
    {
     "name": "stdout",
     "output_type": "stream",
     "text": [
      "                 Generalized Linear Model Regression Results                  \n",
      "==============================================================================\n",
      "Dep. Variable:                      y   No. Observations:                   10\n",
      "Model:                            GLM   Df Residuals:                        8\n",
      "Model Family:                 Poisson   Df Model:                            1\n",
      "Link Function:                    log   Scale:                          1.0000\n",
      "Method:                          IRLS   Log-Likelihood:                -33.518\n",
      "Date:                Wed, 28 Nov 2018   Deviance:                       4.2067\n",
      "Time:                        09:06:38   Pearson chi2:                     4.13\n",
      "No. Iterations:                     4   Covariance Type:             nonrobust\n",
      "==============================================================================\n",
      "                 coef    std err          z      P>|z|      [0.025      0.975]\n",
      "------------------------------------------------------------------------------\n",
      "const          1.8934      0.288      6.578      0.000       1.329       2.458\n",
      "x1             0.0428      0.005      9.295      0.000       0.034       0.052\n",
      "==============================================================================\n"
     ]
    }
   ],
   "source": [
    "X = sm.add_constant(x) # for intercept\n",
    "result_poi = sm.GLM(y, X, family=sm.families.Poisson()).fit()\n",
    "print(result_poi.summary())\n"
   ]
  },
  {
   "cell_type": "code",
   "execution_count": 6,
   "metadata": {},
   "outputs": [
    {
     "name": "stdout",
     "output_type": "stream",
     "text": [
      "a=0.0428, b=1.89\n"
     ]
    }
   ],
   "source": [
    "b, a = result_poi.params ###\n",
    "print('a={:.4f}, b={:.2f}'.format(a, b)) ###"
   ]
  },
  {
   "cell_type": "code",
   "execution_count": 7,
   "metadata": {},
   "outputs": [
    {
     "data": {
      "image/png": "[encoded data removed]",
      "text/plain": [
       "<Figure size 432x288 with 1 Axes>"
      ]
     },
     "metadata": {
      "needs_background": "light"
     },
     "output_type": "display_data"
    }
   ],
   "source": [
    "\n",
    "yhat = np.exp(b + a*x)\n",
    "plt.xlabel('Fahrenheit') \n",
    "plt.ylabel('Chrips / min') \n",
    "plt.plot(x, y , 'o', label = 'data')\n",
    "plt.plot(x, yhat , '-r', label = 'model')\n",
    "plt.legend()\n",
    "sns.despine()"
   ]
  },
  {
   "cell_type": "markdown",
   "metadata": {},
   "source": [
    "# Exercise 2\n",
    "\n",
    "Since we only have two model parameters $a$ and $b$, we can actually plot the likelihood as a function of the model parameters, which can be illuminating.\n",
    "\n",
    "**Implement the log-likelihood of the model as a `loglik(a, b)` function.** The function uses the global `x` and `y` variables for convenience.\n",
    "\n",
    "Think: what is the link function between $ax+b$ and $\\widehat{y}$? What is the distribution of $y$ given $\\widehat{y}$? How does that relate to the likelihood function? "
   ]
  },
  {
   "cell_type": "markdown",
   "metadata": {},
   "source": [
    "Tip: you can compare the results of the `loglik` function to the `result_poi.model.loglike` function of the statsmodels model you fit in Ex 1 (you don't have to if you don't want to)."
   ]
  },
  {
   "cell_type": "code",
   "execution_count": 8,
   "metadata": {},
   "outputs": [
    {
     "name": "stdout",
     "output_type": "stream",
     "text": [
      "-33.51841611704884\n"
     ]
    }
   ],
   "source": [
    "from scipy.stats import poisson\n",
    "def loglik(a, b): ###\n",
    "    yhat = np.exp(a*x+b)\n",
    "    poisson1 = poisson(yhat)\n",
    "    log_likelyhood = poisson1.logpmf(y).sum()\n",
    "    return log_likelyhood\n",
    "print(loglik(a,b))\n",
    "    \n"
   ]
  },
  {
   "cell_type": "markdown",
   "metadata": {},
   "source": [
    "**Compute the log-likelihood for a range for $a$ and $b$ values around the values found in Ex 1.** Make sure `arange` and `brange` have many values so that the plot below will look good; but you can start with a few values and when it works well go to many values.\n",
    "\n",
    "Save the ranges of $a$ and $b$ values in arrays `arange` and `brange`, and the computed log-likelihoods in an array called `ll`.\n",
    "You're `ll` variable should be a 2D array with one row for each $a$ value and one column for each $b$ value.\n",
    "\n",
    "Bonus points: see if you can do this without Python loops using broadcasting (you'll probably need to modify `loglik`)."
   ]
  },
  {
   "cell_type": "code",
   "execution_count": 9,
   "metadata": {},
   "outputs": [],
   "source": [
    "arange = np.arange(-1,1,0.03)#TODO\n",
    "brange = np.arange(-5,5,0.08)#TODO\n",
    "ll = np.transpose(np.array([np.vectorize(loglik)(arange,b) for b in brange]))"
   ]
  },
  {
   "cell_type": "markdown",
   "metadata": {},
   "source": [
    "The next cell uses the arrays you calculated in the previous cell.\n",
    "If you get something a bit different, that may be because you have a slightly different log-likelihood function, but that might not be a mistake (although it may be...).\n",
    "\n",
    "You can see that the value we found above for $a$ and $b$ (marked by the black circle) is on a ridge of the likelihood plane, but it seems like we can increase $b$ and decrease $a$ without losing much likelihood.\n",
    "This is the kind of insight we can get from a likelihood plot."
   ]
  },
  {
   "cell_type": "code",
   "execution_count": 10,
   "metadata": {},
   "outputs": [
    {
     "data": {
      "image/png": "[encoded data removed]",
      "text/plain": [
       "<Figure size 432x288 with 2 Axes>"
      ]
     },
     "metadata": {
      "needs_background": "light"
     },
     "output_type": "display_data"
    }
   ],
   "source": [
    "# don't change this cell\n",
    "plt.pcolormesh(brange.squeeze(), arange.squeeze(), ll, norm=mpl.colors.SymLogNorm(1e-5))\n",
    "plt.plot(b, a, 'ok') \n",
    "plt.xlabel('intercept, $b$') \n",
    "plt.ylabel('slope, $a$') \n",
    "plt.colorbar(label='log-likelihood', ticks=-np.logspace(2, 31, 6)); "
   ]
  },
  {
   "cell_type": "markdown",
   "metadata": {},
   "source": [
    "Now **implement the `gradient` function which computes the gradients of `loglik` with respect to $a$ and $b$.**\n",
    "\n",
    "You can check your implementation of the gradient function using the `gradient_check` function and the loop below it. `gradient_check` uses your `gradient` function and compares it to an estimate of the gradient computed using a simple numerical approximation.\n",
    "`gradient_check` only has output if it finds a big relative error between `gradient` and the numerical gradient; if it only has a few outputs with small errors, you are probably fine."
   ]
  },
  {
   "cell_type": "code",
   "execution_count": 11,
   "metadata": {},
   "outputs": [
    {
     "data": {
      "text/plain": [
       "(-4.274625098332763e-11, -6.750155989720952e-13)"
      ]
     },
     "execution_count": 11,
     "metadata": {},
     "output_type": "execute_result"
    }
   ],
   "source": [
    "def gradient(a, b): ###\n",
    "    m=len(x)\n",
    "    da = (-x*np.exp(a*x+b)+x*y).sum()\n",
    "    db = (y-np.exp(a*x+b)).sum()\n",
    "    return (da,db)\n",
    "gradient(a, b) ###"
   ]
  },
  {
   "cell_type": "code",
   "execution_count": 12,
   "metadata": {},
   "outputs": [],
   "source": [
    "# don't change this cell\n",
    "def gradient_check(a, b, ϵ=1e-4): \n",
    "    da, db = gradient(a, b)\n",
    "    \n",
    "    ll_plus, ll_minus = loglik(a+ϵ, b), loglik(a-ϵ, b)\n",
    "    da_ = (ll_plus - ll_minus) / (2 * ϵ)\n",
    "    ll_plus, ll_minus = loglik(a, b+ϵ), loglik(a, b-ϵ)\n",
    "    db_ = (ll_plus - ll_minus) / (2 * ϵ)\n",
    "    rel_err_a = abs(da - da_)/da\n",
    "    rel_err_b = abs(db - db_)/db\n",
    "    if rel_err_a > 2*ϵ or rel_err_b > 2*ϵ:\n",
    "        msg = 'a={:e}, b={:e}\\na relerr={:e}, b relerr={:e}'\n",
    "        print(msg.format(a, b, rel_err_a, rel_err_b))\n",
    "        \n",
    "gradient_check(a, b)"
   ]
  },
  {
   "cell_type": "code",
   "execution_count": 13,
   "metadata": {},
   "outputs": [],
   "source": [
    "# don't change this cell\n",
    "a_, b_ = 0, 0 \n",
    "for _ in range(1000): \n",
    "    a_, b_ = np.random.normal(a_, 0.01), np.random.normal(b_, 0.1) \n",
    "    gradient_check(a_, b_) "
   ]
  },
  {
   "cell_type": "markdown",
   "metadata": {},
   "source": [
    "Now **use gradient descent to fit the model.**\n",
    "Start from $a=0$ and $b=0$.\n",
    "For the learning rate $\\eta$, you would need a low number, because the gradients are very large.\n",
    "\n",
    "Notes:\n",
    "- please do not override the variables `arange, brange, a, b, ll` as we would need them for plotting in the following cells.\n",
    "- you want to maximize the `loglik` function, so this is really a gradient *ascent* rather than *descent*.\n",
    "- it is unlikely that you will manage to find the same $a$ and $b$ values found by statsmodels (why??), so it's fine if you stop when you get a log-likelihood value of more than, say, -30.\n",
    "- don't forget to print the log-likelihood, $a$ and $b$ from time to time to see the progress of the fitting."
   ]
  },
  {
   "cell_type": "code",
   "execution_count": 14,
   "metadata": {},
   "outputs": [],
   "source": [
    "a_, b_ = 0, 0 ###\n",
    "η=0.0000001\n",
    "flag = True\n",
    "counter=0\n",
    "while (counter<1000000 and flag):\n",
    "    a_ = a_+ η * gradient(a_,b_)[0]\n",
    "    b_ = b_+ η * gradient(a_,b_)[1]\n",
    "    counter=counter+1\n",
    "    if loglik(a_,b_) > -30 :\n",
    "        flag = False\n",
    "    \n",
    "\n"
   ]
  },
  {
   "cell_type": "markdown",
   "metadata": {},
   "source": [
    "The cell below re-plots the log-likelihood plane.\n",
    "**Add a red point for the values you found**."
   ]
  },
  {
   "cell_type": "code",
   "execution_count": 15,
   "metadata": {},
   "outputs": [
    {
     "data": {
      "text/plain": [
       "[<matplotlib.lines.Line2D at 0x1637e551898>]"
      ]
     },
     "execution_count": 15,
     "metadata": {},
     "output_type": "execute_result"
    },
    {
     "data": {
      "image/png": "[encoded data removed]",
      "text/plain": [
       "<Figure size 432x288 with 2 Axes>"
      ]
     },
     "metadata": {
      "needs_background": "light"
     },
     "output_type": "display_data"
    }
   ],
   "source": [
    "plt.pcolormesh(brange.squeeze(), arange.squeeze(), ll, norm=mpl.colors.SymLogNorm(1e-5)) ###\n",
    "plt.plot(b, a, 'ok') ###\n",
    "plt.xlabel('intercept, $b$') ###\n",
    "plt.ylabel('slope, $a$') ###\n",
    "plt.colorbar(label='log-likelihood', ticks=-np.logspace(2, 31, 6)); ###\n",
    "plt.plot(b_, a_, 'ko', color=\"r\") \n",
    "\n",
    "\n",
    "\n"
   ]
  },
  {
   "cell_type": "markdown",
   "metadata": {},
   "source": [
    "**Repeat the plot from the end of Ex 1, but add a line for the model you found with your own $a$ and $b$ values.**"
   ]
  },
  {
   "cell_type": "code",
   "execution_count": 30,
   "metadata": {},
   "outputs": [
    {
     "data": {
      "image/png": "[encoded data removed]",
      "text/plain": [
       "<Figure size 432x288 with 1 Axes>"
      ]
     },
     "metadata": {
      "needs_background": "light"
     },
     "output_type": "display_data"
    }
   ],
   "source": [
    "yhat = np.exp(b + a*x)\n",
    "yhat_new_a_b = np.exp(b_ + a_*x)\n",
    "plt.xlabel('Fahrenheit') \n",
    "plt.ylabel('Chrips / min') \n",
    "plt.plot(x, y , 'o', label = 'data')\n",
    "plt.plot(x, yhat , '-r', label = 'model')\n",
    "plt.plot(x, yhat_new_a_b, '-g', label='my model', color='green')\n",
    "\n",
    "plt.legend()\n",
    "sns.despine()\n",
    "\n",
    "\n",
    "\n"
   ]
  },
  {
   "cell_type": "markdown",
   "metadata": {},
   "source": [
    "# Exercise 3\n",
    "\n",
    "In this exercise we go back to the Tennis dataset and try to build a model that predicts if Rafael Nadal wins a game based on the number of aces and dobule faults he's made.\n",
    "\n",
    "Start by loading the data:"
   ]
  },
  {
   "cell_type": "code",
   "execution_count": 24,
   "metadata": {},
   "outputs": [
    {
     "data": {
      "text/html": [
       "<div>\n",
       "<style scoped>\n",
       "    .dataframe tbody tr th:only-of-type {\n",
       "        vertical-align: middle;\n",
       "    }\n",
       "\n",
       "    .dataframe tbody tr th {\n",
       "        vertical-align: top;\n",
       "    }\n",
       "\n",
       "    .dataframe thead th {\n",
       "        text-align: right;\n",
       "    }\n",
       "</style>\n",
       "<table border=\"1\" class=\"dataframe\">\n",
       "  <thead>\n",
       "    <tr style=\"text-align: right;\">\n",
       "      <th></th>\n",
       "      <th>year</th>\n",
       "      <th>tournament</th>\n",
       "      <th>start date</th>\n",
       "      <th>type</th>\n",
       "      <th>surface</th>\n",
       "      <th>draw</th>\n",
       "      <th>atp points</th>\n",
       "      <th>atp ranking</th>\n",
       "      <th>tournament prize money</th>\n",
       "      <th>round</th>\n",
       "      <th>...</th>\n",
       "      <th>player2 2nd serve return points total</th>\n",
       "      <th>player2 break points converted won</th>\n",
       "      <th>player2 break points converted total</th>\n",
       "      <th>player2 return games played</th>\n",
       "      <th>player2 total service points won</th>\n",
       "      <th>player2 total service points total</th>\n",
       "      <th>player2 total return points won</th>\n",
       "      <th>player2 total return points total</th>\n",
       "      <th>player2 total points won</th>\n",
       "      <th>player2 total points total</th>\n",
       "    </tr>\n",
       "  </thead>\n",
       "  <tbody>\n",
       "    <tr>\n",
       "      <th>0</th>\n",
       "      <td>2001</td>\n",
       "      <td>Seville, Spain</td>\n",
       "      <td>17.09.2001</td>\n",
       "      <td>CH</td>\n",
       "      <td>Outdoor: Clay</td>\n",
       "      <td>Draw: 32</td>\n",
       "      <td>5</td>\n",
       "      <td>NaN</td>\n",
       "      <td>$650</td>\n",
       "      <td>R32</td>\n",
       "      <td>...</td>\n",
       "      <td>NaN</td>\n",
       "      <td>NaN</td>\n",
       "      <td>NaN</td>\n",
       "      <td>NaN</td>\n",
       "      <td>NaN</td>\n",
       "      <td>NaN</td>\n",
       "      <td>NaN</td>\n",
       "      <td>NaN</td>\n",
       "      <td>NaN</td>\n",
       "      <td>NaN</td>\n",
       "    </tr>\n",
       "    <tr>\n",
       "      <th>1</th>\n",
       "      <td>2001</td>\n",
       "      <td>Seville, Spain</td>\n",
       "      <td>17.09.2001</td>\n",
       "      <td>CH</td>\n",
       "      <td>Outdoor: Clay</td>\n",
       "      <td>Draw: 32</td>\n",
       "      <td>5</td>\n",
       "      <td>NaN</td>\n",
       "      <td>$650</td>\n",
       "      <td>R16</td>\n",
       "      <td>...</td>\n",
       "      <td>NaN</td>\n",
       "      <td>NaN</td>\n",
       "      <td>NaN</td>\n",
       "      <td>NaN</td>\n",
       "      <td>NaN</td>\n",
       "      <td>NaN</td>\n",
       "      <td>NaN</td>\n",
       "      <td>NaN</td>\n",
       "      <td>NaN</td>\n",
       "      <td>NaN</td>\n",
       "    </tr>\n",
       "    <tr>\n",
       "      <th>2</th>\n",
       "      <td>2001</td>\n",
       "      <td>Spain F10, Madrid</td>\n",
       "      <td>10.09.2001</td>\n",
       "      <td>FU</td>\n",
       "      <td>Outdoor: Hard</td>\n",
       "      <td>Draw: 32</td>\n",
       "      <td>NaN</td>\n",
       "      <td>NaN</td>\n",
       "      <td>$117</td>\n",
       "      <td>R32</td>\n",
       "      <td>...</td>\n",
       "      <td>NaN</td>\n",
       "      <td>NaN</td>\n",
       "      <td>NaN</td>\n",
       "      <td>NaN</td>\n",
       "      <td>NaN</td>\n",
       "      <td>NaN</td>\n",
       "      <td>NaN</td>\n",
       "      <td>NaN</td>\n",
       "      <td>NaN</td>\n",
       "      <td>NaN</td>\n",
       "    </tr>\n",
       "    <tr>\n",
       "      <th>3</th>\n",
       "      <td>2002</td>\n",
       "      <td>Spain F20, Gran Canaria</td>\n",
       "      <td>25.11.2002</td>\n",
       "      <td>FU</td>\n",
       "      <td>Outdoor: Carpet</td>\n",
       "      <td>Draw: 32</td>\n",
       "      <td>18</td>\n",
       "      <td>238.0</td>\n",
       "      <td>$1,950</td>\n",
       "      <td>R32</td>\n",
       "      <td>...</td>\n",
       "      <td>NaN</td>\n",
       "      <td>NaN</td>\n",
       "      <td>NaN</td>\n",
       "      <td>NaN</td>\n",
       "      <td>NaN</td>\n",
       "      <td>NaN</td>\n",
       "      <td>NaN</td>\n",
       "      <td>NaN</td>\n",
       "      <td>NaN</td>\n",
       "      <td>NaN</td>\n",
       "    </tr>\n",
       "    <tr>\n",
       "      <th>4</th>\n",
       "      <td>2002</td>\n",
       "      <td>Spain F20, Gran Canaria</td>\n",
       "      <td>25.11.2002</td>\n",
       "      <td>FU</td>\n",
       "      <td>Outdoor: Carpet</td>\n",
       "      <td>Draw: 32</td>\n",
       "      <td>18</td>\n",
       "      <td>238.0</td>\n",
       "      <td>$1,950</td>\n",
       "      <td>R16</td>\n",
       "      <td>...</td>\n",
       "      <td>NaN</td>\n",
       "      <td>NaN</td>\n",
       "      <td>NaN</td>\n",
       "      <td>NaN</td>\n",
       "      <td>NaN</td>\n",
       "      <td>NaN</td>\n",
       "      <td>NaN</td>\n",
       "      <td>NaN</td>\n",
       "      <td>NaN</td>\n",
       "      <td>NaN</td>\n",
       "    </tr>\n",
       "  </tbody>\n",
       "</table>\n",
       "<p>5 rows × 70 columns</p>\n",
       "</div>"
      ],
      "text/plain": [
       "   year               tournament  start date type          surface      draw  \\\n",
       "0  2001           Seville, Spain  17.09.2001   CH    Outdoor: Clay  Draw: 32   \n",
       "1  2001           Seville, Spain  17.09.2001   CH    Outdoor: Clay  Draw: 32   \n",
       "2  2001        Spain F10, Madrid  10.09.2001   FU    Outdoor: Hard  Draw: 32   \n",
       "3  2002  Spain F20, Gran Canaria  25.11.2002   FU  Outdoor: Carpet  Draw: 32   \n",
       "4  2002  Spain F20, Gran Canaria  25.11.2002   FU  Outdoor: Carpet  Draw: 32   \n",
       "\n",
       "  atp points  atp ranking tournament prize money round  \\\n",
       "0          5          NaN                   $650   R32   \n",
       "1          5          NaN                   $650   R16   \n",
       "2        NaN          NaN                   $117   R32   \n",
       "3         18        238.0                 $1,950   R32   \n",
       "4         18        238.0                 $1,950   R16   \n",
       "\n",
       "             ...             player2 2nd serve return points total  \\\n",
       "0            ...                                               NaN   \n",
       "1            ...                                               NaN   \n",
       "2            ...                                               NaN   \n",
       "3            ...                                               NaN   \n",
       "4            ...                                               NaN   \n",
       "\n",
       "  player2 break points converted won player2 break points converted total  \\\n",
       "0                                NaN                                  NaN   \n",
       "1                                NaN                                  NaN   \n",
       "2                                NaN                                  NaN   \n",
       "3                                NaN                                  NaN   \n",
       "4                                NaN                                  NaN   \n",
       "\n",
       "  player2 return games played player2 total service points won  \\\n",
       "0                         NaN                              NaN   \n",
       "1                         NaN                              NaN   \n",
       "2                         NaN                              NaN   \n",
       "3                         NaN                              NaN   \n",
       "4                         NaN                              NaN   \n",
       "\n",
       "  player2 total service points total  player2 total return points won  \\\n",
       "0                                NaN                              NaN   \n",
       "1                                NaN                              NaN   \n",
       "2                                NaN                              NaN   \n",
       "3                                NaN                              NaN   \n",
       "4                                NaN                              NaN   \n",
       "\n",
       "  player2 total return points total player2 total points won  \\\n",
       "0                               NaN                      NaN   \n",
       "1                               NaN                      NaN   \n",
       "2                               NaN                      NaN   \n",
       "3                               NaN                      NaN   \n",
       "4                               NaN                      NaN   \n",
       "\n",
       "  player2 total points total  \n",
       "0                        NaN  \n",
       "1                        NaN  \n",
       "2                        NaN  \n",
       "3                        NaN  \n",
       "4                        NaN  \n",
       "\n",
       "[5 rows x 70 columns]"
      ]
     },
     "execution_count": 24,
     "metadata": {},
     "output_type": "execute_result"
    }
   ],
   "source": [
    "data_url = 'https://github.com/ipython-books/cookbook-data/raw/master/tennis.zip'\n",
    "data_filename = '../data/tennis.zip'\n",
    "player = 'Rafael Nadal'\n",
    "features = ['player1 aces', 'player1 double faults']\n",
    "\n",
    "if not os.path.exists(data_filename):\n",
    "    urllib.request.urlretrieve(data_url, data_filename)\n",
    "tennis_zip = zipfile.ZipFile(data_filename)    \n",
    "path = \"data/{}.csv\"\n",
    "path = path.format(player.replace(' ', '-'))\n",
    "with tennis_zip.open(path) as f:\n",
    "    df = pd.read_csv(f)\n",
    "df.head()"
   ]
  },
  {
   "cell_type": "markdown",
   "metadata": {},
   "source": [
    "**Create a column called `win` which had one if Nadal won the game and zero otherwise.**\n",
    "\n",
    "**The remove all columns except the two features and the new target column, and drop all rows in which either of the features is unknown (`Nan`).**"
   ]
  },
  {
   "cell_type": "code",
   "execution_count": 25,
   "metadata": {},
   "outputs": [],
   "source": [
    "df['win'] = np.where(df['winner']==\"Rafael Nadal\", 1, 0)\n",
    "df = df[['player1 aces', 'player1 double faults', 'win']]\n",
    "df = df.dropna()"
   ]
  },
  {
   "cell_type": "markdown",
   "metadata": {},
   "source": [
    "Next, we want to split the dataset into a train set and a test set, so that we can fit the model to the train set and score the model on the test set.\n",
    "\n",
    "To do this, **randomly choose 75% of the rows and collect them to a new dataframe called `df_train`; the rest of the rows should be in `df_test`**. You can use the `DataFrame.sample` method."
   ]
  },
  {
   "cell_type": "code",
   "execution_count": 26,
   "metadata": {},
   "outputs": [],
   "source": [
    "df_train = df.sample(frac=0.75,random_state=15)\n",
    "df_test = df.drop(df_train.index)\n",
    "assert df_train.shape[0] + df_test.shape[0] == df.shape[0]"
   ]
  },
  {
   "cell_type": "markdown",
   "metadata": {},
   "source": [
    "Now **create `X_train`, `X_test`, `y_train`, and `y_test`** which have the required columns from the respective dataframes.\n",
    "\n",
    "Also, consider adding a constant column to the `X_...` data frames so that you can fit the intercept."
   ]
  },
  {
   "cell_type": "code",
   "execution_count": 27,
   "metadata": {},
   "outputs": [],
   "source": [
    "X_test = df_test[[\"player1 double faults\",\"player1 aces\"]]\n",
    "y_train = df_train[\"win\"]\n",
    "X_train = df_train[[\"player1 double faults\",\"player1 aces\"]]\n",
    "X_train = sm.add_constant(X_train)\n",
    "X_test = sm.add_constant(X_test)\n",
    "y_test = df_test[\"win\"]"
   ]
  },
  {
   "cell_type": "markdown",
   "metadata": {},
   "source": [
    "Now we are ready to fit the model to the data.\n",
    "**Use statsmodels `Logit` to fit a logistic model to the train data.**"
   ]
  },
  {
   "cell_type": "code",
   "execution_count": 28,
   "metadata": {},
   "outputs": [
    {
     "name": "stdout",
     "output_type": "stream",
     "text": [
      "Optimization terminated successfully.\n",
      "         Current function value: 0.414746\n",
      "         Iterations 6\n"
     ]
    },
    {
     "data": {
      "text/html": [
       "<table class=\"simpletable\">\n",
       "<caption>Logit Regression Results</caption>\n",
       "<tr>\n",
       "  <th>Dep. Variable:</th>        <td>win</td>       <th>  No. Observations:  </th>  <td>   513</td>  \n",
       "</tr>\n",
       "<tr>\n",
       "  <th>Model:</th>               <td>Logit</td>      <th>  Df Residuals:      </th>  <td>   510</td>  \n",
       "</tr>\n",
       "<tr>\n",
       "  <th>Method:</th>               <td>MLE</td>       <th>  Df Model:          </th>  <td>     2</td>  \n",
       "</tr>\n",
       "<tr>\n",
       "  <th>Date:</th>          <td>Wed, 28 Nov 2018</td> <th>  Pseudo R-squ.:     </th>  <td>0.04190</td> \n",
       "</tr>\n",
       "<tr>\n",
       "  <th>Time:</th>              <td>10:27:14</td>     <th>  Log-Likelihood:    </th> <td> -212.76</td> \n",
       "</tr>\n",
       "<tr>\n",
       "  <th>converged:</th>           <td>True</td>       <th>  LL-Null:           </th> <td> -222.07</td> \n",
       "</tr>\n",
       "<tr>\n",
       "  <th> </th>                      <td> </td>        <th>  LLR p-value:       </th> <td>9.093e-05</td>\n",
       "</tr>\n",
       "</table>\n",
       "<table class=\"simpletable\">\n",
       "<tr>\n",
       "            <td></td>               <th>coef</th>     <th>std err</th>      <th>z</th>      <th>P>|z|</th>  <th>[0.025</th>    <th>0.975]</th>  \n",
       "</tr>\n",
       "<tr>\n",
       "  <th>const</th>                 <td>    2.0948</td> <td>    0.232</td> <td>    9.021</td> <td> 0.000</td> <td>    1.640</td> <td>    2.550</td>\n",
       "</tr>\n",
       "<tr>\n",
       "  <th>player1 double faults</th> <td>   -0.3617</td> <td>    0.085</td> <td>   -4.239</td> <td> 0.000</td> <td>   -0.529</td> <td>   -0.194</td>\n",
       "</tr>\n",
       "<tr>\n",
       "  <th>player1 aces</th>          <td>    0.0745</td> <td>    0.049</td> <td>    1.513</td> <td> 0.130</td> <td>   -0.022</td> <td>    0.171</td>\n",
       "</tr>\n",
       "</table>"
      ],
      "text/plain": [
       "<class 'statsmodels.iolib.summary.Summary'>\n",
       "\"\"\"\n",
       "                           Logit Regression Results                           \n",
       "==============================================================================\n",
       "Dep. Variable:                    win   No. Observations:                  513\n",
       "Model:                          Logit   Df Residuals:                      510\n",
       "Method:                           MLE   Df Model:                            2\n",
       "Date:                Wed, 28 Nov 2018   Pseudo R-squ.:                 0.04190\n",
       "Time:                        10:27:14   Log-Likelihood:                -212.76\n",
       "converged:                       True   LL-Null:                       -222.07\n",
       "                                        LLR p-value:                 9.093e-05\n",
       "=========================================================================================\n",
       "                            coef    std err          z      P>|z|      [0.025      0.975]\n",
       "-----------------------------------------------------------------------------------------\n",
       "const                     2.0948      0.232      9.021      0.000       1.640       2.550\n",
       "player1 double faults    -0.3617      0.085     -4.239      0.000      -0.529      -0.194\n",
       "player1 aces              0.0745      0.049      1.513      0.130      -0.022       0.171\n",
       "=========================================================================================\n",
       "\"\"\""
      ]
     },
     "execution_count": 28,
     "metadata": {},
     "output_type": "execute_result"
    }
   ],
   "source": [
    "result_logit = sm.Logit(y_train, X_train)\n",
    "result_logit=result_logit.fit()\n",
    "result_logit.summary() ###"
   ]
  },
  {
   "cell_type": "markdown",
   "metadata": {},
   "source": [
    "Finally, **compute the test accuracy of the fitted model**: predict the win probability for the games in `X_test`, use the predicted win probabilities to predict if each game was won or lost, and check for each game if your prediction was correct by comparing to `y_test`.\n",
    "\n",
    "**Print the model test accuracy**, which is the fraction of games in the test set for which the model prediction was correct.\n",
    "If you got a similar or higher accuracy then you are fine; if you got something considerably lower than you probably did something wrong."
   ]
  },
  {
   "cell_type": "code",
   "execution_count": 29,
   "metadata": {},
   "outputs": [
    {
     "data": {
      "text/plain": [
       "'Accuracy: 0.7602339181286549'"
      ]
     },
     "execution_count": 29,
     "metadata": {},
     "output_type": "execute_result"
    }
   ],
   "source": [
    "prediction= result_logit.predict(X_test).round()\n",
    "string = \"Accuracy: {}\"\n",
    "string.format((prediction==y_test).mean())"
   ]
  },
  {
   "cell_type": "markdown",
   "metadata": {},
   "source": [
    "**end of assignment**"
   ]
  }
 ],
 "metadata": {
  "kernelspec": {
   "display_name": "Python 3",
   "language": "python",
   "name": "python3"
  },
  "language_info": {
   "codemirror_mode": {
    "name": "ipython",
    "version": 3
   },
   "file_extension": ".py",
   "mimetype": "text/x-python",
   "name": "python",
   "nbconvert_exporter": "python",
   "pygments_lexer": "ipython3",
   "version": "3.7.0"
  }
 },
 "nbformat": 4,
 "nbformat_minor": 2
}
